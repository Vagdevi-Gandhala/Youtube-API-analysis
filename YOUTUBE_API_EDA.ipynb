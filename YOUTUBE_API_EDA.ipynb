{
  "nbformat": 4,
  "nbformat_minor": 0,
  "metadata": {
    "colab": {
      "name": "YOUTUBE_API_EDA.ipynb",
      "provenance": [],
      "authorship_tag": "ABX9TyOZmqbMVMoTh/1174il2fwC",
      "include_colab_link": true
    },
    "kernelspec": {
      "name": "python3",
      "display_name": "Python 3"
    },
    "language_info": {
      "name": "python"
    }
  },
  "cells": [
    {
      "cell_type": "markdown",
      "metadata": {
        "id": "view-in-github",
        "colab_type": "text"
      },
      "source": [
        "<a href=\"https://colab.research.google.com/github/Vagdevi-Gandhala/Youtube-API-analysis/blob/main/YOUTUBE_API_EDA.ipynb\" target=\"_parent\"><img src=\"https://colab.research.google.com/assets/colab-badge.svg\" alt=\"Open In Colab\"/></a>"
      ]
    },
    {
      "cell_type": "markdown",
      "source": [
        "#Data Extraction from Youtube data Api"
      ],
      "metadata": {
        "id": "UPtDi1Ojg1OO"
      }
    },
    {
      "cell_type": "markdown",
      "source": [
        "## Import required libraries"
      ],
      "metadata": {
        "id": "QcPMcUjlgIr0"
      }
    },
    {
      "cell_type": "code",
      "execution_count": 1,
      "metadata": {
        "id": "mK5yuDfnWvoH"
      },
      "outputs": [],
      "source": [
        "from googleapiclient.discovery import build\n",
        "import pandas as pd\n",
        "\n",
        "#for data visualization\n",
        "import seaborn as sns\n",
        "import matplotlib.pyplot as plt\n",
        "import matplotlib.ticker as ticker"
      ]
    },
    {
      "cell_type": "markdown",
      "source": [
        "##copy the api key generated in google cloud services"
      ],
      "metadata": {
        "id": "k3gRTdJsue59"
      }
    },
    {
      "cell_type": "code",
      "source": [
        "api_key = '' #YOUR API KEY HERE\n",
        "channel_id = 'UC2D2CMWXMOVWx7giW1n3LIg'\n",
        "youtube = build('youtube', 'v3', developerKey = api_key)"
      ],
      "metadata": {
        "id": "EpSYs5MarJMf"
      },
      "execution_count": 80,
      "outputs": []
    },
    {
      "cell_type": "markdown",
      "source": [
        "##function to get channel statistics"
      ],
      "metadata": {
        "id": "6OKvioZxDWuZ"
      }
    },
    {
      "cell_type": "code",
      "source": [
        "def get_channel_stats(youtube, channel_id):\n",
        "\n",
        "  all_data = []\n",
        "\n",
        "  request = youtube.channels().list(\n",
        "      part='snippet,contentDetails,statistics',id = channel_id)\n",
        "\n",
        "  response = request.execute()\n",
        "\n",
        "  #loop through items\n",
        "  for item in response['items']:\n",
        "    data = {'channel Name' : item['snippet']['title'],\n",
        "            'playlist_id' : item['contentDetails']['relatedPlaylists']['uploads']\n",
        "            }\n",
        "    all_data.append(data)        \n",
        "\n",
        "  return all_data"
      ],
      "metadata": {
        "id": "JRDVXbBhDa9b"
      },
      "execution_count": 81,
      "outputs": []
    },
    {
      "cell_type": "code",
      "source": [
        "channel_statistics = get_channel_stats(youtube, channel_id)"
      ],
      "metadata": {
        "id": "oYIF65GDuLSw"
      },
      "execution_count": 82,
      "outputs": []
    },
    {
      "cell_type": "code",
      "source": [
        "channel_data = pd.DataFrame(channel_statistics)\n",
        "channel_data\n"
      ],
      "metadata": {
        "id": "H6eCF7lCE2Qp",
        "colab": {
          "base_uri": "https://localhost:8080/",
          "height": 81
        },
        "outputId": "d1047cd0-bd06-4c55-99d2-c58d65d29de0"
      },
      "execution_count": 83,
      "outputs": [
        {
          "output_type": "execute_result",
          "data": {
            "text/plain": [
              "      channel Name               playlist_id\n",
              "0  Andrew Huberman  UU2D2CMWXMOVWx7giW1n3LIg"
            ],
            "text/html": [
              "\n",
              "  <div id=\"df-37962bda-98e2-4b2a-9bbd-fc513caea820\">\n",
              "    <div class=\"colab-df-container\">\n",
              "      <div>\n",
              "<style scoped>\n",
              "    .dataframe tbody tr th:only-of-type {\n",
              "        vertical-align: middle;\n",
              "    }\n",
              "\n",
              "    .dataframe tbody tr th {\n",
              "        vertical-align: top;\n",
              "    }\n",
              "\n",
              "    .dataframe thead th {\n",
              "        text-align: right;\n",
              "    }\n",
              "</style>\n",
              "<table border=\"1\" class=\"dataframe\">\n",
              "  <thead>\n",
              "    <tr style=\"text-align: right;\">\n",
              "      <th></th>\n",
              "      <th>channel Name</th>\n",
              "      <th>playlist_id</th>\n",
              "    </tr>\n",
              "  </thead>\n",
              "  <tbody>\n",
              "    <tr>\n",
              "      <th>0</th>\n",
              "      <td>Andrew Huberman</td>\n",
              "      <td>UU2D2CMWXMOVWx7giW1n3LIg</td>\n",
              "    </tr>\n",
              "  </tbody>\n",
              "</table>\n",
              "</div>\n",
              "      <button class=\"colab-df-convert\" onclick=\"convertToInteractive('df-37962bda-98e2-4b2a-9bbd-fc513caea820')\"\n",
              "              title=\"Convert this dataframe to an interactive table.\"\n",
              "              style=\"display:none;\">\n",
              "        \n",
              "  <svg xmlns=\"http://www.w3.org/2000/svg\" height=\"24px\"viewBox=\"0 0 24 24\"\n",
              "       width=\"24px\">\n",
              "    <path d=\"M0 0h24v24H0V0z\" fill=\"none\"/>\n",
              "    <path d=\"M18.56 5.44l.94 2.06.94-2.06 2.06-.94-2.06-.94-.94-2.06-.94 2.06-2.06.94zm-11 1L8.5 8.5l.94-2.06 2.06-.94-2.06-.94L8.5 2.5l-.94 2.06-2.06.94zm10 10l.94 2.06.94-2.06 2.06-.94-2.06-.94-.94-2.06-.94 2.06-2.06.94z\"/><path d=\"M17.41 7.96l-1.37-1.37c-.4-.4-.92-.59-1.43-.59-.52 0-1.04.2-1.43.59L10.3 9.45l-7.72 7.72c-.78.78-.78 2.05 0 2.83L4 21.41c.39.39.9.59 1.41.59.51 0 1.02-.2 1.41-.59l7.78-7.78 2.81-2.81c.8-.78.8-2.07 0-2.86zM5.41 20L4 18.59l7.72-7.72 1.47 1.35L5.41 20z\"/>\n",
              "  </svg>\n",
              "      </button>\n",
              "      \n",
              "  <style>\n",
              "    .colab-df-container {\n",
              "      display:flex;\n",
              "      flex-wrap:wrap;\n",
              "      gap: 12px;\n",
              "    }\n",
              "\n",
              "    .colab-df-convert {\n",
              "      background-color: #E8F0FE;\n",
              "      border: none;\n",
              "      border-radius: 50%;\n",
              "      cursor: pointer;\n",
              "      display: none;\n",
              "      fill: #1967D2;\n",
              "      height: 32px;\n",
              "      padding: 0 0 0 0;\n",
              "      width: 32px;\n",
              "    }\n",
              "\n",
              "    .colab-df-convert:hover {\n",
              "      background-color: #E2EBFA;\n",
              "      box-shadow: 0px 1px 2px rgba(60, 64, 67, 0.3), 0px 1px 3px 1px rgba(60, 64, 67, 0.15);\n",
              "      fill: #174EA6;\n",
              "    }\n",
              "\n",
              "    [theme=dark] .colab-df-convert {\n",
              "      background-color: #3B4455;\n",
              "      fill: #D2E3FC;\n",
              "    }\n",
              "\n",
              "    [theme=dark] .colab-df-convert:hover {\n",
              "      background-color: #434B5C;\n",
              "      box-shadow: 0px 1px 3px 1px rgba(0, 0, 0, 0.15);\n",
              "      filter: drop-shadow(0px 1px 2px rgba(0, 0, 0, 0.3));\n",
              "      fill: #FFFFFF;\n",
              "    }\n",
              "  </style>\n",
              "\n",
              "      <script>\n",
              "        const buttonEl =\n",
              "          document.querySelector('#df-37962bda-98e2-4b2a-9bbd-fc513caea820 button.colab-df-convert');\n",
              "        buttonEl.style.display =\n",
              "          google.colab.kernel.accessAllowed ? 'block' : 'none';\n",
              "\n",
              "        async function convertToInteractive(key) {\n",
              "          const element = document.querySelector('#df-37962bda-98e2-4b2a-9bbd-fc513caea820');\n",
              "          const dataTable =\n",
              "            await google.colab.kernel.invokeFunction('convertToInteractive',\n",
              "                                                     [key], {});\n",
              "          if (!dataTable) return;\n",
              "\n",
              "          const docLinkHtml = 'Like what you see? Visit the ' +\n",
              "            '<a target=\"_blank\" href=https://colab.research.google.com/notebooks/data_table.ipynb>data table notebook</a>'\n",
              "            + ' to learn more about interactive tables.';\n",
              "          element.innerHTML = '';\n",
              "          dataTable['output_type'] = 'display_data';\n",
              "          await google.colab.output.renderOutput(dataTable, element);\n",
              "          const docLink = document.createElement('div');\n",
              "          docLink.innerHTML = docLinkHtml;\n",
              "          element.appendChild(docLink);\n",
              "        }\n",
              "      </script>\n",
              "    </div>\n",
              "  </div>\n",
              "  "
            ]
          },
          "metadata": {},
          "execution_count": 83
        }
      ]
    },
    {
      "cell_type": "code",
      "source": [
        "playlist_id = 'UU2D2CMWXMOVWx7giW1n3LIg'"
      ],
      "metadata": {
        "id": "kI5QLkQNsy3I"
      },
      "execution_count": 84,
      "outputs": []
    },
    {
      "cell_type": "markdown",
      "source": [
        "##function to get video ids\n"
      ],
      "metadata": {
        "id": "k8ZOHx4DX_zY"
      }
    },
    {
      "cell_type": "code",
      "source": [
        "def get_video_ids(youtube, playlist_id):\n",
        "    \n",
        "    video_ids = []\n",
        "    \n",
        "    request = youtube.playlistItems().list(\n",
        "        part=\"snippet,contentDetails\",\n",
        "        playlistId=playlist_id,\n",
        "        maxResults = 50\n",
        "    )\n",
        "    response = request.execute()\n",
        "    \n",
        "    for item in response['items']:\n",
        "        video_ids.append(item['contentDetails']['videoId'])\n",
        "        \n",
        "    next_page_token = response.get('nextPageToken')\n",
        "    while next_page_token is not None:\n",
        "        request = youtube.playlistItems().list(\n",
        "                    part='contentDetails',\n",
        "                    playlistId = playlist_id,\n",
        "                    maxResults = 50,\n",
        "                    pageToken = next_page_token)\n",
        "        response = request.execute()\n",
        "\n",
        "        for item in response['items']:\n",
        "            video_ids.append(item['contentDetails']['videoId'])\n",
        "\n",
        "        next_page_token = response.get('nextPageToken')\n",
        "        \n",
        "    return video_ids\n"
      ],
      "metadata": {
        "id": "vOQib6_ToZ-b"
      },
      "execution_count": 85,
      "outputs": []
    },
    {
      "cell_type": "code",
      "source": [
        "video_ids = get_video_ids(youtube, playlist_id)\n",
        "len(video_ids)"
      ],
      "metadata": {
        "colab": {
          "base_uri": "https://localhost:8080/"
        },
        "id": "jhjbzziHfVaO",
        "outputId": "66a0b324-92b8-4331-c711-9a54e7c4b500"
      },
      "execution_count": 86,
      "outputs": [
        {
          "output_type": "execute_result",
          "data": {
            "text/plain": [
              "89"
            ]
          },
          "metadata": {},
          "execution_count": 86
        }
      ]
    },
    {
      "cell_type": "markdown",
      "source": [
        "##function to get video details"
      ],
      "metadata": {
        "id": "iG89dVtzSbzy"
      }
    },
    {
      "cell_type": "code",
      "source": [
        "def get_video_details(youtube, video_ids):\n",
        "\n",
        "    all_video_info = []\n",
        "    \n",
        "    for i in range(0, len(video_ids), 50):\n",
        "        request = youtube.videos().list(\n",
        "            part=\"snippet,contentDetails,statistics\",\n",
        "            id=','.join(video_ids[i:i+50])\n",
        "        )\n",
        "        response = request.execute() \n",
        "\n",
        "        for video in response['items']:\n",
        "            stats_to_keep = {'title': video['snippet']['title'], 'description': video['snippet']['description'],\n",
        "                             'view_count':video['statistics']['viewCount'],'like_count':video['statistics']['likeCount']\n",
        "                            }\n",
        "        \n",
        "            all_video_info.append(stats_to_keep)\n",
        "    \n",
        "    return pd.DataFrame(all_video_info)"
      ],
      "metadata": {
        "id": "alpDCnWN7Fr0"
      },
      "execution_count": 88,
      "outputs": []
    },
    {
      "cell_type": "code",
      "source": [
        "video_df =  get_video_details(youtube, video_ids)\n",
        "video_df"
      ],
      "metadata": {
        "colab": {
          "base_uri": "https://localhost:8080/",
          "height": 424
        },
        "id": "xEKhJvu0f-Di",
        "outputId": "1ee3a8af-1a4c-4fe6-bb26-2e5723175228"
      },
      "execution_count": 89,
      "outputs": [
        {
          "output_type": "execute_result",
          "data": {
            "text/plain": [
              "                                                title  \\\n",
              "0   LIVE EVENT Q&A: Dr. Andrew Huberman Question &...   \n",
              "1   Dr. Peter Attia: Exercise, Nutrition, Hormones...   \n",
              "2   Sleep Toolkit: Tools for Optimizing Sleep & Sl...   \n",
              "3   Dr. Emily Balcetis: Tools for Setting & Achiev...   \n",
              "4   The Science & Treatment of Bipolar Disorder | ...   \n",
              "..                                                ...   \n",
              "84  Find Your Temperature Minimum to Defeat Jetlag...   \n",
              "85  Using Science to Optimize Sleep, Learning & Me...   \n",
              "86  Master Your Sleep & Be More Alert When Awake |...   \n",
              "87  How Your Nervous System Works & Changes | Hube...   \n",
              "88                Welcome to the Huberman Lab Podcast   \n",
              "\n",
              "                                          description view_count like_count  \n",
              "0   Recently I had the pleasure of hosting two liv...      85525       3508  \n",
              "1   My guest this episode is Dr. Peter Attia, M.D....     285347       8821  \n",
              "2   In this episode, I describe a comprehensive to...     246789       8577  \n",
              "3   My guest this episode is Dr. Emily Balcetis, P...     190051       6409  \n",
              "4   In this episode, I explain the biology, sympto...     131985       3890  \n",
              "..                                                ...        ...        ...  \n",
              "84  In this episode, I discuss a simple and reliab...     258679       8365  \n",
              "85  “Office Hours” — In this episode, I answer you...     838616      26652  \n",
              "86  Today's episode provides a host of information...    1698628      55944  \n",
              "87  Today’s episode provides an introduction to ho...     842057      39336  \n",
              "88  Welcome to the Huberman Lab Podcast. I am Dr. ...     309509      10667  \n",
              "\n",
              "[89 rows x 4 columns]"
            ],
            "text/html": [
              "\n",
              "  <div id=\"df-bcc34ce1-5b8b-4384-bf1d-3d909f54e0a6\">\n",
              "    <div class=\"colab-df-container\">\n",
              "      <div>\n",
              "<style scoped>\n",
              "    .dataframe tbody tr th:only-of-type {\n",
              "        vertical-align: middle;\n",
              "    }\n",
              "\n",
              "    .dataframe tbody tr th {\n",
              "        vertical-align: top;\n",
              "    }\n",
              "\n",
              "    .dataframe thead th {\n",
              "        text-align: right;\n",
              "    }\n",
              "</style>\n",
              "<table border=\"1\" class=\"dataframe\">\n",
              "  <thead>\n",
              "    <tr style=\"text-align: right;\">\n",
              "      <th></th>\n",
              "      <th>title</th>\n",
              "      <th>description</th>\n",
              "      <th>view_count</th>\n",
              "      <th>like_count</th>\n",
              "    </tr>\n",
              "  </thead>\n",
              "  <tbody>\n",
              "    <tr>\n",
              "      <th>0</th>\n",
              "      <td>LIVE EVENT Q&amp;A: Dr. Andrew Huberman Question &amp;...</td>\n",
              "      <td>Recently I had the pleasure of hosting two liv...</td>\n",
              "      <td>85525</td>\n",
              "      <td>3508</td>\n",
              "    </tr>\n",
              "    <tr>\n",
              "      <th>1</th>\n",
              "      <td>Dr. Peter Attia: Exercise, Nutrition, Hormones...</td>\n",
              "      <td>My guest this episode is Dr. Peter Attia, M.D....</td>\n",
              "      <td>285347</td>\n",
              "      <td>8821</td>\n",
              "    </tr>\n",
              "    <tr>\n",
              "      <th>2</th>\n",
              "      <td>Sleep Toolkit: Tools for Optimizing Sleep &amp; Sl...</td>\n",
              "      <td>In this episode, I describe a comprehensive to...</td>\n",
              "      <td>246789</td>\n",
              "      <td>8577</td>\n",
              "    </tr>\n",
              "    <tr>\n",
              "      <th>3</th>\n",
              "      <td>Dr. Emily Balcetis: Tools for Setting &amp; Achiev...</td>\n",
              "      <td>My guest this episode is Dr. Emily Balcetis, P...</td>\n",
              "      <td>190051</td>\n",
              "      <td>6409</td>\n",
              "    </tr>\n",
              "    <tr>\n",
              "      <th>4</th>\n",
              "      <td>The Science &amp; Treatment of Bipolar Disorder | ...</td>\n",
              "      <td>In this episode, I explain the biology, sympto...</td>\n",
              "      <td>131985</td>\n",
              "      <td>3890</td>\n",
              "    </tr>\n",
              "    <tr>\n",
              "      <th>...</th>\n",
              "      <td>...</td>\n",
              "      <td>...</td>\n",
              "      <td>...</td>\n",
              "      <td>...</td>\n",
              "    </tr>\n",
              "    <tr>\n",
              "      <th>84</th>\n",
              "      <td>Find Your Temperature Minimum to Defeat Jetlag...</td>\n",
              "      <td>In this episode, I discuss a simple and reliab...</td>\n",
              "      <td>258679</td>\n",
              "      <td>8365</td>\n",
              "    </tr>\n",
              "    <tr>\n",
              "      <th>85</th>\n",
              "      <td>Using Science to Optimize Sleep, Learning &amp; Me...</td>\n",
              "      <td>“Office Hours” — In this episode, I answer you...</td>\n",
              "      <td>838616</td>\n",
              "      <td>26652</td>\n",
              "    </tr>\n",
              "    <tr>\n",
              "      <th>86</th>\n",
              "      <td>Master Your Sleep &amp; Be More Alert When Awake |...</td>\n",
              "      <td>Today's episode provides a host of information...</td>\n",
              "      <td>1698628</td>\n",
              "      <td>55944</td>\n",
              "    </tr>\n",
              "    <tr>\n",
              "      <th>87</th>\n",
              "      <td>How Your Nervous System Works &amp; Changes | Hube...</td>\n",
              "      <td>Today’s episode provides an introduction to ho...</td>\n",
              "      <td>842057</td>\n",
              "      <td>39336</td>\n",
              "    </tr>\n",
              "    <tr>\n",
              "      <th>88</th>\n",
              "      <td>Welcome to the Huberman Lab Podcast</td>\n",
              "      <td>Welcome to the Huberman Lab Podcast. I am Dr. ...</td>\n",
              "      <td>309509</td>\n",
              "      <td>10667</td>\n",
              "    </tr>\n",
              "  </tbody>\n",
              "</table>\n",
              "<p>89 rows × 4 columns</p>\n",
              "</div>\n",
              "      <button class=\"colab-df-convert\" onclick=\"convertToInteractive('df-bcc34ce1-5b8b-4384-bf1d-3d909f54e0a6')\"\n",
              "              title=\"Convert this dataframe to an interactive table.\"\n",
              "              style=\"display:none;\">\n",
              "        \n",
              "  <svg xmlns=\"http://www.w3.org/2000/svg\" height=\"24px\"viewBox=\"0 0 24 24\"\n",
              "       width=\"24px\">\n",
              "    <path d=\"M0 0h24v24H0V0z\" fill=\"none\"/>\n",
              "    <path d=\"M18.56 5.44l.94 2.06.94-2.06 2.06-.94-2.06-.94-.94-2.06-.94 2.06-2.06.94zm-11 1L8.5 8.5l.94-2.06 2.06-.94-2.06-.94L8.5 2.5l-.94 2.06-2.06.94zm10 10l.94 2.06.94-2.06 2.06-.94-2.06-.94-.94-2.06-.94 2.06-2.06.94z\"/><path d=\"M17.41 7.96l-1.37-1.37c-.4-.4-.92-.59-1.43-.59-.52 0-1.04.2-1.43.59L10.3 9.45l-7.72 7.72c-.78.78-.78 2.05 0 2.83L4 21.41c.39.39.9.59 1.41.59.51 0 1.02-.2 1.41-.59l7.78-7.78 2.81-2.81c.8-.78.8-2.07 0-2.86zM5.41 20L4 18.59l7.72-7.72 1.47 1.35L5.41 20z\"/>\n",
              "  </svg>\n",
              "      </button>\n",
              "      \n",
              "  <style>\n",
              "    .colab-df-container {\n",
              "      display:flex;\n",
              "      flex-wrap:wrap;\n",
              "      gap: 12px;\n",
              "    }\n",
              "\n",
              "    .colab-df-convert {\n",
              "      background-color: #E8F0FE;\n",
              "      border: none;\n",
              "      border-radius: 50%;\n",
              "      cursor: pointer;\n",
              "      display: none;\n",
              "      fill: #1967D2;\n",
              "      height: 32px;\n",
              "      padding: 0 0 0 0;\n",
              "      width: 32px;\n",
              "    }\n",
              "\n",
              "    .colab-df-convert:hover {\n",
              "      background-color: #E2EBFA;\n",
              "      box-shadow: 0px 1px 2px rgba(60, 64, 67, 0.3), 0px 1px 3px 1px rgba(60, 64, 67, 0.15);\n",
              "      fill: #174EA6;\n",
              "    }\n",
              "\n",
              "    [theme=dark] .colab-df-convert {\n",
              "      background-color: #3B4455;\n",
              "      fill: #D2E3FC;\n",
              "    }\n",
              "\n",
              "    [theme=dark] .colab-df-convert:hover {\n",
              "      background-color: #434B5C;\n",
              "      box-shadow: 0px 1px 3px 1px rgba(0, 0, 0, 0.15);\n",
              "      filter: drop-shadow(0px 1px 2px rgba(0, 0, 0, 0.3));\n",
              "      fill: #FFFFFF;\n",
              "    }\n",
              "  </style>\n",
              "\n",
              "      <script>\n",
              "        const buttonEl =\n",
              "          document.querySelector('#df-bcc34ce1-5b8b-4384-bf1d-3d909f54e0a6 button.colab-df-convert');\n",
              "        buttonEl.style.display =\n",
              "          google.colab.kernel.accessAllowed ? 'block' : 'none';\n",
              "\n",
              "        async function convertToInteractive(key) {\n",
              "          const element = document.querySelector('#df-bcc34ce1-5b8b-4384-bf1d-3d909f54e0a6');\n",
              "          const dataTable =\n",
              "            await google.colab.kernel.invokeFunction('convertToInteractive',\n",
              "                                                     [key], {});\n",
              "          if (!dataTable) return;\n",
              "\n",
              "          const docLinkHtml = 'Like what you see? Visit the ' +\n",
              "            '<a target=\"_blank\" href=https://colab.research.google.com/notebooks/data_table.ipynb>data table notebook</a>'\n",
              "            + ' to learn more about interactive tables.';\n",
              "          element.innerHTML = '';\n",
              "          dataTable['output_type'] = 'display_data';\n",
              "          await google.colab.output.renderOutput(dataTable, element);\n",
              "          const docLink = document.createElement('div');\n",
              "          docLink.innerHTML = docLinkHtml;\n",
              "          element.appendChild(docLink);\n",
              "        }\n",
              "      </script>\n",
              "    </div>\n",
              "  </div>\n",
              "  "
            ]
          },
          "metadata": {},
          "execution_count": 89
        }
      ]
    },
    {
      "cell_type": "markdown",
      "source": [
        "#data pre-processing"
      ],
      "metadata": {
        "id": "5UOR-LTRgsXD"
      }
    },
    {
      "cell_type": "markdown",
      "source": [
        "###check is there are any null values"
      ],
      "metadata": {
        "id": "zq0WEx4aSwmV"
      }
    },
    {
      "cell_type": "code",
      "source": [
        "video_df.isnull().any()"
      ],
      "metadata": {
        "colab": {
          "base_uri": "https://localhost:8080/"
        },
        "id": "kDGhIK8GE2QO",
        "outputId": "cf5da459-da91-43ad-b539-68da1b42eabe"
      },
      "execution_count": 55,
      "outputs": [
        {
          "output_type": "execute_result",
          "data": {
            "text/plain": [
              "title          False\n",
              "description    False\n",
              "view_count     False\n",
              "like_count     False\n",
              "dtype: bool"
            ]
          },
          "metadata": {},
          "execution_count": 55
        }
      ]
    },
    {
      "cell_type": "markdown",
      "source": [
        "###Check data types"
      ],
      "metadata": {
        "id": "tvXCqvexhSby"
      }
    },
    {
      "cell_type": "code",
      "source": [
        "video_df.dtypes"
      ],
      "metadata": {
        "colab": {
          "base_uri": "https://localhost:8080/"
        },
        "id": "cxnbkdJ-hYm-",
        "outputId": "1e9a26c2-3b53-40fb-e8cd-f14acfffa5aa"
      },
      "execution_count": 56,
      "outputs": [
        {
          "output_type": "execute_result",
          "data": {
            "text/plain": [
              "title          object\n",
              "description    object\n",
              "view_count     object\n",
              "like_count     object\n",
              "dtype: object"
            ]
          },
          "metadata": {},
          "execution_count": 56
        }
      ]
    },
    {
      "cell_type": "markdown",
      "source": [
        "###Convert count columns to numeric"
      ],
      "metadata": {
        "id": "P2YgU7Juhdjn"
      }
    },
    {
      "cell_type": "code",
      "source": [
        "numeric_cols = ['view_count', 'like_count']\n",
        "video_df[numeric_cols] = video_df[numeric_cols].apply(pd.to_numeric, errors = 'coerce', axis = 1)"
      ],
      "metadata": {
        "id": "M3WO4ci_hjI5"
      },
      "execution_count": 90,
      "outputs": []
    },
    {
      "cell_type": "markdown",
      "source": [
        "#Exploratory Data Analysis\n"
      ],
      "metadata": {
        "id": "0WOofn6VhoQt"
      }
    },
    {
      "cell_type": "markdown",
      "source": [
        "##Best performing videos"
      ],
      "metadata": {
        "id": "oaI8N3kAh6Rv"
      }
    },
    {
      "cell_type": "code",
      "source": [
        "ax = sns.barplot(x = 'view_count', y = 'title', data = video_df.sort_values('view_count', ascending=False)[0:9])\n"
      ],
      "metadata": {
        "colab": {
          "base_uri": "https://localhost:8080/",
          "height": 280
        },
        "id": "NlQS0qVbteHt",
        "outputId": "a4c1a7fe-5748-47e3-e2b3-dee8482fa8c6"
      },
      "execution_count": 91,
      "outputs": [
        {
          "output_type": "display_data",
          "data": {
            "text/plain": [
              "<Figure size 432x288 with 1 Axes>"
            ],
            "image/png": "[encoded data removed]"
          },
          "metadata": {
            "needs_background": "light"
          }
        }
      ]
    },
    {
      "cell_type": "markdown",
      "source": [
        "##Worst Performing videos"
      ],
      "metadata": {
        "id": "eVYNlNAWiEG8"
      }
    },
    {
      "cell_type": "code",
      "source": [
        "ax = sns.barplot(x = 'view_count', y = 'title', data = video_df.sort_values('view_count', ascending=True)[0:9])\n"
      ],
      "metadata": {
        "colab": {
          "base_uri": "https://localhost:8080/",
          "height": 280
        },
        "id": "DoFK8pS0iOqQ",
        "outputId": "e3803ad9-cd9a-4a83-f9ad-d212708a803d"
      },
      "execution_count": 92,
      "outputs": [
        {
          "output_type": "display_data",
          "data": {
            "text/plain": [
              "<Figure size 432x288 with 1 Axes>"
            ],
            "image/png": "[encoded data removed]"
          },
          "metadata": {
            "needs_background": "light"
          }
        }
      ]
    },
    {
      "cell_type": "markdown",
      "source": [
        "##Views vs. likes"
      ],
      "metadata": {
        "id": "faR8Wsk3ifcg"
      }
    },
    {
      "cell_type": "code",
      "source": [
        "sns.scatterplot(data = video_df, x = 'like_count', y = 'view_count')\n"
      ],
      "metadata": {
        "colab": {
          "base_uri": "https://localhost:8080/",
          "height": 308
        },
        "id": "SLhB9J6Tip33",
        "outputId": "f2038cb7-006a-45a4-cfe6-f5e658896cc2"
      },
      "execution_count": 93,
      "outputs": [
        {
          "output_type": "execute_result",
          "data": {
            "text/plain": [
              "<matplotlib.axes._subplots.AxesSubplot at 0x7fa1ab20d0d0>"
            ]
          },
          "metadata": {},
          "execution_count": 93
        },
        {
          "output_type": "display_data",
          "data": {
            "text/plain": [
              "<Figure size 432x288 with 1 Axes>"
            ],
            "image/png": "[encoded data removed]"
          },
          "metadata": {
            "needs_background": "light"
          }
        }
      ]
    }
  ]
}